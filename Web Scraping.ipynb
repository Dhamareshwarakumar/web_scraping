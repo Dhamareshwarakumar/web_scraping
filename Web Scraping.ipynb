{
 "cells": [
  {
   "cell_type": "markdown",
   "metadata": {},
   "source": [
    "# <center>Web Scraping</center>\n",
    "---"
   ]
  },
  {
   "cell_type": "markdown",
   "metadata": {},
   "source": [
    "## What is Web Scarping?\n",
    "> We can simply say Automated Web Browsing\n",
    "\n",
    "## Why WebScraping?\n",
    "> * It is useful in Business Model\n",
    ">> * We can Build a business model that compares various products on all E-Commerce sites and shows the minimal prices\n",
    "> * Extract Data from websites Where API's are not available\n",
    ">> * We can extract COVID data from websites\n",
    "> * Google Scrapes Webpages on the internet so that when we search about a keyword it shows the pages related to keywords\n",
    "\n",
    "## Human Browsing Vs Web Scraping\n",
    "\n",
    "| Human Browsing | Web Scraping |\n",
    "|----------------|--------------|\n",
    "| Enter/click an URL | Set a start URL |\n",
    "| Download HTML | Download HTML |\n",
    "| Parse HTML & Render | Parse HTML |\n",
    "| Search for useful Info | Extract Useful Info |\n",
    "| Remember the Information | save the data |"
   ]
  },
  {
   "cell_type": "markdown",
   "metadata": {},
   "source": [
    "## HTTP\n",
    "Request Response\n",
    "GET POST\n",
    "Understanding URL"
   ]
  },
  {
   "cell_type": "markdown",
   "metadata": {},
   "source": [
    "CSS Selectors"
   ]
  },
  {
   "cell_type": "markdown",
   "metadata": {},
   "source": [
    "## Developer Tools"
   ]
  },
  {
   "cell_type": "code",
   "execution_count": null,
   "metadata": {},
   "outputs": [],
   "source": [
    "!pip install requests\n",
    "!pip install beautifulsoup4\n",
    "!pip install pan"
   ]
  },
  {
   "cell_type": "code",
   "execution_count": null,
   "metadata": {},
   "outputs": [],
   "source": []
  }
 ],
 "metadata": {
  "kernelspec": {
   "display_name": "Python 3",
   "language": "python",
   "name": "python3"
  },
  "language_info": {
   "codemirror_mode": {
    "name": "ipython",
    "version": 3
   },
   "file_extension": ".py",
   "mimetype": "text/x-python",
   "name": "python",
   "nbconvert_exporter": "python",
   "pygments_lexer": "ipython3",
   "version": "3.8.5"
  }
 },
 "nbformat": 4,
 "nbformat_minor": 4
}
